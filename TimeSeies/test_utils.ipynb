{
 "cells": [
  {
   "cell_type": "markdown",
   "metadata": {},
   "source": [
    "# 1. Test geo distance"
   ]
  },
  {
   "cell_type": "code",
   "execution_count": 1,
   "metadata": {},
   "outputs": [
    {
     "name": "stdout",
     "output_type": "stream",
     "text": [
      "1. geopy's distance:7700.59566907888 km\n",
      "2. haversine's distance 7710.400362384587 km\n"
     ]
    }
   ],
   "source": [
    "from geopy.distance import distance\n",
    "\n",
    "def diff_distance(x):\n",
    "    lon1, lat1 = float(20), float(-20)\n",
    "    lon2, lat2 = float(-30), float(30)\n",
    "    distan = distance((lat1,lon1), (lat2,lon2)).km\n",
    "    return distan\n",
    "\n",
    "import math\n",
    "def calc_dist(row):\n",
    "\n",
    "    def haversine(lon1, lat1, lon2, lat2):\n",
    "        # 将坐标转换为浮点数\n",
    "        lon1, lat1, lon2, lat2 = [float(lon1), float(lat1), float(lon2), float(lat2)]\n",
    "        # 将度数转换为弧度\n",
    "        lon1, lat1, lon2, lat2 = map(math.radians, [lon1, lat1, lon2, lat2])\n",
    "        # 计算距离\n",
    "        dlon = lon2 - lon1 \n",
    "        dlat = lat2 - lat1 \n",
    "        a = math.sin(dlat/2)**2 + math.cos(lat1) * math.cos(lat2) * math.sin(dlon/2)**2\n",
    "        c = 2 * math.asin(math.sqrt(a)) \n",
    "        km = 6367 * c\n",
    "        return km\n",
    " \n",
    "    dist = 0\n",
    "    try:\n",
    "        # 匹配源和目的以获得坐标\n",
    "        # 使用坐标计算距离\n",
    "        dist = haversine(20, -20, -30, 30)\n",
    "    except (ValueError, IndexError):\n",
    "        pass\n",
    "    return dist\n",
    "\n",
    "# random input is okay\n",
    "print(\"1. geopy's distance:{} km\".format(diff_distance(3)))\n",
    "print(\"2. haversine's distance {} km\".format(calc_dist(3)))"
   ]
  },
  {
   "cell_type": "code",
   "execution_count": null,
   "metadata": {},
   "outputs": [],
   "source": []
  }
 ],
 "metadata": {
  "kernelspec": {
   "display_name": "cv",
   "language": "python",
   "name": "cv"
  },
  "language_info": {
   "codemirror_mode": {
    "name": "ipython",
    "version": 3
   },
   "file_extension": ".py",
   "mimetype": "text/x-python",
   "name": "python",
   "nbconvert_exporter": "python",
   "pygments_lexer": "ipython3",
   "version": "3.7.7"
  }
 },
 "nbformat": 4,
 "nbformat_minor": 4
}
